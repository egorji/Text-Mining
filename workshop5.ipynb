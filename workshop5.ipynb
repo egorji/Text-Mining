{
 "cells": [
  {
   "cell_type": "code",
   "execution_count": null,
   "id": "1951a544",
   "metadata": {},
   "outputs": [],
   "source": []
  },
  {
   "cell_type": "code",
   "execution_count": 1,
   "id": "96ef8f5b",
   "metadata": {},
   "outputs": [],
   "source": [
    "import pandas as pd\n",
    "import numpy as np\n",
    "import matplotlib.pyplot as plt\n",
    "import os\n",
    "import re\n",
    "import nltk\n",
    "from nltk import word_tokenize\n",
    "from nltk.tokenize import RegexpTokenizer\n",
    "#from sklearn.pipeline import Pipeline\n",
    "from sklearn.feature_extraction.text import TfidfVectorizer\n",
    "from sklearn.model_selection import train_test_split\n",
    "from sklearn.preprocessing import LabelEncoder\n",
    "#from scipy.sparse import csr_matrix  "
   ]
  },
  {
   "cell_type": "code",
   "execution_count": 2,
   "id": "295f0f09",
   "metadata": {},
   "outputs": [
    {
     "name": "stdout",
     "output_type": "stream",
     "text": [
      "['arxiv_annotate1_13_1.txt', 'arxiv_annotate1_13_2.txt', 'arxiv_annotate1_13_3.txt', 'arxiv_annotate2_66_1.txt', 'arxiv_annotate2_66_2.txt', 'arxiv_annotate3_80_3.txt', 'arxiv_annotate4_168_1.txt', 'arxiv_annotate4_168_2.txt', 'arxiv_annotate4_168_3.txt', 'arxiv_annotate5_240_1.txt']\n"
     ]
    }
   ],
   "source": [
    "path_labeled=r\"C:\\Users\\Efat\\Desktop\\seneca\\semester5\\BDM550\\week6\\labeled_dataset\"\n",
    "files=os.listdir(path_labeled)\n",
    "print(files)"
   ]
  },
  {
   "cell_type": "code",
   "execution_count": 3,
   "id": "85db165f",
   "metadata": {},
   "outputs": [
    {
     "name": "stdout",
     "output_type": "stream",
     "text": [
      "335\n"
     ]
    },
    {
     "data": {
      "text/plain": [
       "['### abstract ###\\n',\n",
       " 'MISC\\talthough the internet as level topology has been extensively studied over the past few years  little is known about the details of the as taxonomy\\n',\n",
       " 'MISC\\tan as  node  can represent a wide variety of organizations  e g   large isp  or small private business  university  with vastly different network characteristics  external connectivity patterns  network growth tendencies  and other properties that we can hardly neglect while working on veracious internet representations in simulation environments\\n',\n",
       " 'AIMX\\tin this paper  we introduce a radically new approach based on machine learning techniques to map all the ases in the internet into a natural as taxonomy\\n',\n",
       " 'OWNX\\twe successfully classify  NUMBER   NUMBER  percent  of ases with expected accuracy of  NUMBER   NUMBER  percent \\n',\n",
       " 'OWNX\\twe release to the community the as level topology dataset augmented with   NUMBER   the as taxonomy information and  NUMBER   the set of as attributes we used to classify ases\\n',\n",
       " 'OWNX\\twe believe that this dataset will serve as an invaluable addition to further understanding of the structure and evolution of the internet\\n',\n",
       " '### introduction ###\\n',\n",
       " 'MISC\\tthe rapid expansion of the internet in the last two decades has produced a large scale system of thousands of diverse  independently managed networks that collectively provide global connectivity across a wide spectrum of geopolitical environments\\n',\n",
       " 'MISC\\tfrom  NUMBER  to  NUMBER  the number of globally routable as identifiers has increased from less than  NUMBER   NUMBER  to more than  NUMBER   NUMBER   exerting significant pressure on interdomain routing as well as other functional and structural parts of the internet\\n']"
      ]
     },
     "execution_count": 3,
     "metadata": {},
     "output_type": "execute_result"
    }
   ],
   "source": [
    "documents=[]\n",
    "for f in files:\n",
    "    path=os.path.join(path_labeled, f)\n",
    "#     print(path)\n",
    "    file=open(path, \"r\")\n",
    "    docs=file.readlines()\n",
    "    #print(docs)\n",
    "    documents.extend(docs)\n",
    "print(len(documents))\n",
    "documents[:10]"
   ]
  },
  {
   "cell_type": "code",
   "execution_count": 4,
   "id": "f1b58451",
   "metadata": {},
   "outputs": [
    {
     "name": "stdout",
     "output_type": "stream",
     "text": [
      "315\n"
     ]
    },
    {
     "data": {
      "text/plain": [
       "['MISC\\talthough the internet as level topology has been extensively studied over the past few years  little is known about the details of the as taxonomy\\n',\n",
       " 'MISC\\tan as  node  can represent a wide variety of organizations  e g   large isp  or small private business  university  with vastly different network characteristics  external connectivity patterns  network growth tendencies  and other properties that we can hardly neglect while working on veracious internet representations in simulation environments\\n',\n",
       " 'AIMX\\tin this paper  we introduce a radically new approach based on machine learning techniques to map all the ases in the internet into a natural as taxonomy\\n',\n",
       " 'OWNX\\twe successfully classify  NUMBER   NUMBER  percent  of ases with expected accuracy of  NUMBER   NUMBER  percent \\n',\n",
       " 'OWNX\\twe release to the community the as level topology dataset augmented with   NUMBER   the as taxonomy information and  NUMBER   the set of as attributes we used to classify ases\\n',\n",
       " 'OWNX\\twe believe that this dataset will serve as an invaluable addition to further understanding of the structure and evolution of the internet\\n',\n",
       " 'MISC\\tthe rapid expansion of the internet in the last two decades has produced a large scale system of thousands of diverse  independently managed networks that collectively provide global connectivity across a wide spectrum of geopolitical environments\\n',\n",
       " 'MISC\\tfrom  NUMBER  to  NUMBER  the number of globally routable as identifiers has increased from less than  NUMBER   NUMBER  to more than  NUMBER   NUMBER   exerting significant pressure on interdomain routing as well as other functional and structural parts of the internet\\n',\n",
       " 'MISC\\tthis impressive growth has resulted in a heterogenous and highly complex system that challenges accurate and realistic modeling of the internet infrastructure\\n',\n",
       " 'MISC\\tin particular  the as level topology is an intermix of networks owned and operated by many different organizations  e g   backbone providers  regional providers  access providers  universities and private companies\\n']"
      ]
     },
     "execution_count": 4,
     "metadata": {},
     "output_type": "execute_result"
    }
   ],
   "source": [
    "def preprocess1(docs):   # remove articles\n",
    "    for item in docs:\n",
    "        if re.search(r\"^### .* ###\\s$\", item):\n",
    "            docs.remove(item)\n",
    "          \n",
    "preprocess1(documents)\n",
    "print(len(documents))\n",
    "documents[:10]"
   ]
  },
  {
   "cell_type": "code",
   "execution_count": 5,
   "id": "869f9394",
   "metadata": {},
   "outputs": [
    {
     "name": "stdout",
     "output_type": "stream",
     "text": [
      "<re.Match object; span=(31, 37), match='NUMBER'>\n",
      "3\n",
      "<re.Match object; span=(80, 86), match='NUMBER'>\n",
      "4\n",
      "<re.Match object; span=(11, 17), match='NUMBER'>\n",
      "7\n",
      "<re.Match object; span=(129, 135), match='NUMBER'>\n",
      "27\n",
      "<re.Match object; span=(92, 98), match='NUMBER'>\n",
      "28\n",
      "<re.Match object; span=(31, 37), match='NUMBER'>\n",
      "3\n",
      "<re.Match object; span=(80, 86), match='NUMBER'>\n",
      "4\n",
      "<re.Match object; span=(11, 17), match='NUMBER'>\n",
      "7\n",
      "<re.Match object; span=(129, 135), match='NUMBER'>\n",
      "27\n",
      "<re.Match object; span=(92, 98), match='NUMBER'>\n",
      "28\n",
      "<re.Match object; span=(215, 221), match='NUMBER'>\n",
      "283\n"
     ]
    }
   ],
   "source": [
    "for doc in documents:\n",
    "    if len(re.findall(\"NUMBER\", doc))>=1:\n",
    "        print(re.search(\"NUMBER\", doc))\n",
    "        print(documents.index(doc))"
   ]
  },
  {
   "cell_type": "code",
   "execution_count": 6,
   "id": "32dbe86c",
   "metadata": {},
   "outputs": [
    {
     "name": "stdout",
     "output_type": "stream",
     "text": [
      "MISC\talthough the internet as level topology has been extensively studied over the past few years  little is known about the details of the as taxonomy\n",
      "\n",
      "MISC\n"
     ]
    },
    {
     "data": {
      "text/plain": [
       "'although the internet as level topology has been extensively studied over the past few years  little is known about the details of the as taxonomy\\n'"
      ]
     },
     "execution_count": 6,
     "metadata": {},
     "output_type": "execute_result"
    }
   ],
   "source": [
    "print(documents[0])\n",
    "print(re.findall(\"[A-Z]+\\s\", documents[0])[0][:-1])\n",
    "re.split(\"[A-Z]+\\s\", documents[0])[1]"
   ]
  },
  {
   "cell_type": "code",
   "execution_count": 7,
   "id": "a9049add",
   "metadata": {},
   "outputs": [
    {
     "name": "stdout",
     "output_type": "stream",
     "text": [
      "{'OWNX', 'MISC', 'BASE', 'AIMX', 'CONT'}\n",
      "['although the internet as level topology has been extensively studied over the past few years  little is known about the details of the as taxonomy\\n', 'an as  node  can represent a wide variety of organizations  e g   large isp  or small private business  university  with vastly different network characteristics  external connectivity patterns  network growth tendencies  and other properties that we can hardly neglect while working on veracious internet representations in simulation environments\\n', 'in this paper  we introduce a radically new approach based on machine learning techniques to map all the ases in the internet into a natural as taxonomy\\n']\n",
      "315 315\n"
     ]
    }
   ],
   "source": [
    "def preprocess2(docs):   #define documents and labels\n",
    "    labels=[]\n",
    "    plain_docs=[]\n",
    "    pattern=\"[A-Z]+\\s\"\n",
    "    for doc in docs:\n",
    "        label=re.findall(pattern, doc)[0][:-1]\n",
    "        d=re.split(pattern, doc)[1]\n",
    "        labels.append(label)\n",
    "        plain_docs.append(d)\n",
    "    return plain_docs, labels\n",
    "# preprocess2(documents)\n",
    "docs, labels= preprocess2(documents)\n",
    "print(set(labels))\n",
    "print(docs[:3])\n",
    "print(len(labels) , len(docs))"
   ]
  },
  {
   "cell_type": "code",
   "execution_count": 8,
   "id": "034461f5",
   "metadata": {},
   "outputs": [
    {
     "data": {
      "text/plain": [
       "<AxesSubplot:>"
      ]
     },
     "execution_count": 8,
     "metadata": {},
     "output_type": "execute_result"
    },
    {
     "data": {
      "image/png": "[encoded data removed]",
      "text/plain": [
       "<Figure size 720x288 with 1 Axes>"
      ]
     },
     "metadata": {
      "needs_background": "light"
     },
     "output_type": "display_data"
    }
   ],
   "source": [
    "plt.figure(figsize=(10,4))\n",
    "lbs=pd.Series(labels)\n",
    "lbs.value_counts().plot(kind='bar')"
   ]
  },
  {
   "cell_type": "code",
   "execution_count": 9,
   "id": "ed2c4731",
   "metadata": {},
   "outputs": [
    {
     "data": {
      "text/plain": [
       "['although internet level topology extensively studied past years little known details taxonomy',\n",
       " 'node represent wide variety organizations large isp small private business university vastly different network characteristics external connectivity patterns network growth tendencies properties hardly neglect working veracious internet representations simulation environments',\n",
       " 'paper introduce radically new approach based machine learning techniques map ases internet natural taxonomy',\n",
       " 'successfully classify',\n",
       " 'release community level topology dataset augmented']"
      ]
     },
     "execution_count": 9,
     "metadata": {},
     "output_type": "execute_result"
    }
   ],
   "source": [
    "from nltk.corpus import stopwords\n",
    "stops = set(stopwords.words('english'))\n",
    "tokenizer = RegexpTokenizer(r'\\w+')  #used to remove punctuations.\\\n",
    "                                     #it tokenizes only alphanumeric words but not punctuations\n",
    "\n",
    "def preprocess3(docs):   #remove stop words and punctuations\n",
    "    cleaned_docs=[]\n",
    "    for doc in docs:\n",
    "#         print(doc)\n",
    "        tokens=[t.lower() for t in tokenizer.tokenize(doc) if (t not in stops) & (len(t)>1)]\n",
    "        d=\" \".join(tokens)\n",
    "        cleaned_docs.append(d)\n",
    "    return cleaned_docs\n",
    "    \n",
    "docs=preprocess3(docs)\n",
    "docs[:5]\n",
    "    "
   ]
  },
  {
   "cell_type": "code",
   "execution_count": 10,
   "id": "6a278c43",
   "metadata": {},
   "outputs": [
    {
     "data": {
      "text/plain": [
       "numpy.ndarray"
      ]
     },
     "execution_count": 10,
     "metadata": {},
     "output_type": "execute_result"
    }
   ],
   "source": [
    "#vectorizing the documents\n",
    "vectorizer = TfidfVectorizer()\n",
    "X=vectorizer.fit_transform(docs)\n",
    "X=X.toarray()\n",
    "X.shape\n",
    "type(X)"
   ]
  },
  {
   "cell_type": "code",
   "execution_count": 11,
   "id": "f38ea751",
   "metadata": {},
   "outputs": [
    {
     "name": "stdout",
     "output_type": "stream",
     "text": [
      "315\n",
      "0      3\n",
      "1      3\n",
      "2      0\n",
      "3      4\n",
      "4      4\n",
      "      ..\n",
      "310    4\n",
      "311    3\n",
      "312    3\n",
      "313    3\n",
      "314    3\n",
      "Length: 315, dtype: int64\n",
      "['AIMX' 'BASE' 'CONT' 'MISC' 'OWNX']\n"
     ]
    }
   ],
   "source": [
    "le=LabelEncoder()\n",
    "y=le.fit_transform(labels)\n",
    "y=pd.Series(y)\n",
    "print(len(y))\n",
    "print(y)\n",
    "print(le.classes_)"
   ]
  },
  {
   "cell_type": "code",
   "execution_count": 12,
   "id": "c6752357",
   "metadata": {},
   "outputs": [
    {
     "name": "stdout",
     "output_type": "stream",
     "text": [
      "315\n",
      "315\n"
     ]
    }
   ],
   "source": [
    "print(X.shape[0])\n",
    "print(y.shape[0])"
   ]
  },
  {
   "cell_type": "code",
   "execution_count": 13,
   "id": "68e62d9d",
   "metadata": {},
   "outputs": [
    {
     "name": "stdout",
     "output_type": "stream",
     "text": [
      "252\n",
      "63\n"
     ]
    }
   ],
   "source": [
    "# define X and y\n",
    "X_train, X_test, y_train, y_test= train_test_split(X, y, train_size=0.8, random_state=42)\n",
    "print(len(X_train))\n",
    "print(len(X_test))"
   ]
  },
  {
   "cell_type": "code",
   "execution_count": 14,
   "id": "83851b0f",
   "metadata": {},
   "outputs": [
    {
     "data": {
      "text/plain": [
       "array([[0., 0., 0., ..., 0., 0., 0.],\n",
       "       [0., 0., 0., ..., 0., 0., 0.],\n",
       "       [0., 0., 0., ..., 0., 0., 0.]])"
      ]
     },
     "execution_count": 14,
     "metadata": {},
     "output_type": "execute_result"
    }
   ],
   "source": [
    "\n",
    "X_train[:3]"
   ]
  },
  {
   "cell_type": "code",
   "execution_count": 15,
   "id": "f586a9c4",
   "metadata": {},
   "outputs": [
    {
     "data": {
      "text/plain": [
       "MultinomialNB()"
      ]
     },
     "execution_count": 15,
     "metadata": {},
     "output_type": "execute_result"
    }
   ],
   "source": [
    "from sklearn.naive_bayes import MultinomialNB\n",
    "model1=MultinomialNB()\n",
    "model1.fit(X_train, y_train)"
   ]
  },
  {
   "cell_type": "code",
   "execution_count": 16,
   "id": "97c8535c",
   "metadata": {},
   "outputs": [
    {
     "data": {
      "text/plain": [
       "array([[ 12,   0,   0,   3,   5],\n",
       "       [  0,   1,   0,   4,   7],\n",
       "       [  0,   0,   3,  14,   7],\n",
       "       [  0,   0,   0, 112,   3],\n",
       "       [  0,   0,   0,   2,  79]], dtype=int64)"
      ]
     },
     "execution_count": 16,
     "metadata": {},
     "output_type": "execute_result"
    }
   ],
   "source": [
    "from sklearn import metrics\n",
    "confusion_matrix1 = metrics.confusion_matrix(y_train,model1.predict(X_train))\n",
    "confusion_matrix1"
   ]
  },
  {
   "cell_type": "code",
   "execution_count": 17,
   "id": "7ce4bf18",
   "metadata": {},
   "outputs": [
    {
     "name": "stdout",
     "output_type": "stream",
     "text": [
      "              precision    recall  f1-score   support\n",
      "\n",
      "        AIMX       1.00      0.60      0.75        20\n",
      "        BASE       1.00      0.08      0.15        12\n",
      "        CONT       1.00      0.12      0.22        24\n",
      "        MISC       0.83      0.97      0.90       115\n",
      "        OWNX       0.78      0.98      0.87        81\n",
      "\n",
      "    accuracy                           0.82       252\n",
      "   macro avg       0.92      0.55      0.58       252\n",
      "weighted avg       0.85      0.82      0.78       252\n",
      "\n"
     ]
    }
   ],
   "source": [
    "print(metrics.classification_report(y_train, model1.predict(X_train), target_names=le.classes_))"
   ]
  },
  {
   "cell_type": "code",
   "execution_count": 18,
   "id": "6b5cf1fd",
   "metadata": {},
   "outputs": [
    {
     "data": {
      "text/plain": [
       "0.8214285714285714"
      ]
     },
     "execution_count": 18,
     "metadata": {},
     "output_type": "execute_result"
    }
   ],
   "source": [
    "metrics.accuracy_score(y_train, model1.predict(X_train))"
   ]
  },
  {
   "cell_type": "code",
   "execution_count": 19,
   "id": "4640a652",
   "metadata": {},
   "outputs": [
    {
     "data": {
      "text/plain": [
       "SGDClassifier(alpha=0.001, max_iter=5, random_state=42, tol=None)"
      ]
     },
     "execution_count": 19,
     "metadata": {},
     "output_type": "execute_result"
    }
   ],
   "source": [
    "### linear SGD\n",
    "from sklearn.linear_model import SGDClassifier\n",
    "model2=SGDClassifier(loss='hinge', penalty='l2',alpha=1e-3, random_state=42, max_iter=5, tol=None)\n",
    "model2.fit(X_train, y_train)"
   ]
  },
  {
   "cell_type": "code",
   "execution_count": 20,
   "id": "a78e16d4",
   "metadata": {},
   "outputs": [
    {
     "data": {
      "text/plain": [
       "array([[ 19,   0,   0,   0,   1],\n",
       "       [  0,  11,   0,   0,   1],\n",
       "       [  0,   0,  15,   7,   2],\n",
       "       [  0,   0,   1, 113,   1],\n",
       "       [  0,   0,   0,   3,  78]], dtype=int64)"
      ]
     },
     "execution_count": 20,
     "metadata": {},
     "output_type": "execute_result"
    }
   ],
   "source": [
    "confusion_matrix2 = metrics.confusion_matrix(y_train,model2.predict(X_train))\n",
    "confusion_matrix2"
   ]
  },
  {
   "cell_type": "code",
   "execution_count": 21,
   "id": "1b2dc27b",
   "metadata": {},
   "outputs": [
    {
     "name": "stdout",
     "output_type": "stream",
     "text": [
      "              precision    recall  f1-score   support\n",
      "\n",
      "        AIMX       1.00      0.95      0.97        20\n",
      "        BASE       1.00      0.92      0.96        12\n",
      "        CONT       0.94      0.62      0.75        24\n",
      "        MISC       0.92      0.98      0.95       115\n",
      "        OWNX       0.94      0.96      0.95        81\n",
      "\n",
      "    accuracy                           0.94       252\n",
      "   macro avg       0.96      0.89      0.92       252\n",
      "weighted avg       0.94      0.94      0.93       252\n",
      "\n"
     ]
    }
   ],
   "source": [
    "print(metrics.classification_report(y_train, model2.predict(X_train),target_names=le.classes_))"
   ]
  },
  {
   "cell_type": "code",
   "execution_count": 22,
   "id": "8396a4e6",
   "metadata": {},
   "outputs": [
    {
     "data": {
      "text/plain": [
       "0.9365079365079365"
      ]
     },
     "execution_count": 22,
     "metadata": {},
     "output_type": "execute_result"
    }
   ],
   "source": [
    "metrics.accuracy_score(y_train, model2.predict(X_train))"
   ]
  },
  {
   "cell_type": "code",
   "execution_count": 23,
   "id": "d6b62c59",
   "metadata": {},
   "outputs": [
    {
     "name": "stdout",
     "output_type": "stream",
     "text": [
      "naive bayes accuracy:  0.7142857142857143\n",
      "linear SGD accuracy:  0.6507936507936508\n"
     ]
    }
   ],
   "source": [
    "#comparing the models on the test set\n",
    "print(\"naive bayes accuracy: \",metrics.accuracy_score(y_test, model1.predict(X_test)))\n",
    "print(\"linear SGD accuracy: \", metrics.accuracy_score(y_test, model2.predict(X_test)))"
   ]
  },
  {
   "cell_type": "code",
   "execution_count": 24,
   "id": "c0e3e38a",
   "metadata": {},
   "outputs": [
    {
     "name": "stdout",
     "output_type": "stream",
     "text": [
      "naive bayes:\n",
      "[[ 2  0  0  2  2]\n",
      " [ 0  0  0  0  2]\n",
      " [ 0  0  0  6  1]\n",
      " [ 0  0  0 25  2]\n",
      " [ 0  0  0  3 18]]\n",
      "\n",
      "SGD:\n",
      "[[ 3  0  0  1  2]\n",
      " [ 0  0  0  0  2]\n",
      " [ 0  0  0  7  0]\n",
      " [ 0  0  1 26  0]\n",
      " [ 4  0  1  4 12]]\n"
     ]
    }
   ],
   "source": [
    "print(\"naive bayes:\")\n",
    "print( metrics.confusion_matrix(y_test,model1.predict(X_test)))\n",
    "print()\n",
    "print(\"SGD:\")\n",
    "print(metrics.confusion_matrix(y_test,model2.predict(X_test)))"
   ]
  },
  {
   "cell_type": "code",
   "execution_count": 25,
   "id": "509b5421",
   "metadata": {},
   "outputs": [
    {
     "name": "stdout",
     "output_type": "stream",
     "text": [
      "naive bayes:\n",
      "              precision    recall  f1-score   support\n",
      "\n",
      "        AIMX       1.00      0.33      0.50         6\n",
      "        BASE       0.00      0.00      0.00         2\n",
      "        CONT       0.00      0.00      0.00         7\n",
      "        MISC       0.69      0.93      0.79        27\n",
      "        OWNX       0.72      0.86      0.78        21\n",
      "\n",
      "    accuracy                           0.71        63\n",
      "   macro avg       0.48      0.42      0.42        63\n",
      "weighted avg       0.63      0.71      0.65        63\n",
      "\n",
      "SGD:\n",
      "              precision    recall  f1-score   support\n",
      "\n",
      "        AIMX       0.43      0.50      0.46         6\n",
      "        BASE       0.00      0.00      0.00         2\n",
      "        CONT       0.00      0.00      0.00         7\n",
      "        MISC       0.68      0.96      0.80        27\n",
      "        OWNX       0.75      0.57      0.65        21\n",
      "\n",
      "    accuracy                           0.65        63\n",
      "   macro avg       0.37      0.41      0.38        63\n",
      "weighted avg       0.58      0.65      0.60        63\n",
      "\n"
     ]
    }
   ],
   "source": [
    "print(\"naive bayes:\")\n",
    "print(metrics.classification_report(y_test, model1.predict(X_test),target_names=le.classes_,\\\n",
    "                                   zero_division=0))\n",
    "print(\"SGD:\")\n",
    "print(metrics.classification_report(y_test, model2.predict(X_test),target_names=le.classes_,\\\n",
    "                                   zero_division=0))"
   ]
  },
  {
   "cell_type": "code",
   "execution_count": 26,
   "id": "4ca883e8",
   "metadata": {},
   "outputs": [
    {
     "data": {
      "text/plain": [
       "3    27\n",
       "4    21\n",
       "2     7\n",
       "0     6\n",
       "1     2\n",
       "dtype: int64"
      ]
     },
     "execution_count": 26,
     "metadata": {},
     "output_type": "execute_result"
    }
   ],
   "source": [
    "y_test.value_counts()"
   ]
  },
  {
   "cell_type": "code",
   "execution_count": 27,
   "id": "15b481a3",
   "metadata": {},
   "outputs": [
    {
     "data": {
      "text/plain": [
       "ComplementNB()"
      ]
     },
     "execution_count": 27,
     "metadata": {},
     "output_type": "execute_result"
    }
   ],
   "source": [
    "#the complement naive bayes would be a good choice for unbalanced classes\n",
    "from sklearn.naive_bayes import ComplementNB\n",
    "model3=ComplementNB()\n",
    "model3.fit(X_train, y_train)"
   ]
  },
  {
   "cell_type": "code",
   "execution_count": 28,
   "id": "a321b327",
   "metadata": {},
   "outputs": [
    {
     "data": {
      "text/plain": [
       "0.8849206349206349"
      ]
     },
     "execution_count": 28,
     "metadata": {},
     "output_type": "execute_result"
    }
   ],
   "source": [
    "metrics.accuracy_score(y_train, model3.predict(X_train))"
   ]
  },
  {
   "cell_type": "code",
   "execution_count": 29,
   "id": "ee046778",
   "metadata": {},
   "outputs": [
    {
     "data": {
      "text/plain": [
       "0.7142857142857143"
      ]
     },
     "execution_count": 29,
     "metadata": {},
     "output_type": "execute_result"
    }
   ],
   "source": [
    "metrics.accuracy_score(y_test, model1.predict(X_test))"
   ]
  },
  {
   "cell_type": "code",
   "execution_count": 30,
   "id": "055059c6",
   "metadata": {},
   "outputs": [
    {
     "name": "stdout",
     "output_type": "stream",
     "text": [
      "              precision    recall  f1-score   support\n",
      "\n",
      "        AIMX       0.70      0.95      0.81        20\n",
      "        BASE       0.89      0.67      0.76        12\n",
      "        CONT       0.76      0.67      0.71        24\n",
      "        MISC       0.94      0.89      0.91       115\n",
      "        OWNX       0.90      0.96      0.93        81\n",
      "\n",
      "    accuracy                           0.88       252\n",
      "   macro avg       0.84      0.83      0.82       252\n",
      "weighted avg       0.89      0.88      0.88       252\n",
      "\n",
      "              precision    recall  f1-score   support\n",
      "\n",
      "        AIMX       0.31      0.67      0.42         6\n",
      "        BASE       0.00      0.00      0.00         2\n",
      "        CONT       0.00      0.00      0.00         7\n",
      "        MISC       0.71      0.56      0.63        27\n",
      "        OWNX       0.68      0.62      0.65        21\n",
      "\n",
      "    accuracy                           0.51        63\n",
      "   macro avg       0.34      0.37      0.34        63\n",
      "weighted avg       0.56      0.51      0.52        63\n",
      "\n"
     ]
    }
   ],
   "source": [
    "print(metrics.classification_report(y_train, model3.predict(X_train),target_names=le.classes_,\\\n",
    "                                   zero_division=0))\n",
    "print(metrics.classification_report(y_test, model3.predict(X_test),target_names=le.classes_,\\\n",
    "                                   zero_division=0))"
   ]
  },
  {
   "cell_type": "code",
   "execution_count": 31,
   "id": "86b8f8a3",
   "metadata": {},
   "outputs": [
    {
     "name": "stdout",
     "output_type": "stream",
     "text": [
      "[[ 19   0   0   0   1]\n",
      " [  0   8   0   0   4]\n",
      " [  0   0  16   6   2]\n",
      " [  5   1   5 102   2]\n",
      " [  3   0   0   0  78]]\n"
     ]
    }
   ],
   "source": [
    "print(metrics.confusion_matrix(y_train,model3.predict(X_train)))"
   ]
  },
  {
   "cell_type": "code",
   "execution_count": 32,
   "id": "1749cd72",
   "metadata": {},
   "outputs": [
    {
     "name": "stdout",
     "output_type": "stream",
     "text": [
      "[[ 4  0  0  0  2]\n",
      " [ 0  0  0  0  2]\n",
      " [ 0  0  0  6  1]\n",
      " [ 6  1  4 15  1]\n",
      " [ 3  1  4  0 13]]\n"
     ]
    }
   ],
   "source": [
    "print(metrics.confusion_matrix(y_test,model3.predict(X_test)))"
   ]
  },
  {
   "cell_type": "markdown",
   "id": "88572807",
   "metadata": {},
   "source": [
    "## predicting the labels for unlabled data"
   ]
  },
  {
   "cell_type": "code",
   "execution_count": 33,
   "id": "ab62f77f",
   "metadata": {},
   "outputs": [
    {
     "name": "stdout",
     "output_type": "stream",
     "text": [
      "['1.txt', '2.txt']\n"
     ]
    }
   ],
   "source": [
    "# read the unlabled data files\n",
    "path_unlabeled=r\"C:\\Users\\Efat\\Desktop\\seneca\\semester5\\BDM550\\week6\\unlabeled_dataset\"\n",
    "files_unlabled=os.listdir(path_unlabeled)\n",
    "print(files_unlabled)"
   ]
  },
  {
   "cell_type": "code",
   "execution_count": 34,
   "id": "cc3eab8f",
   "metadata": {},
   "outputs": [
    {
     "name": "stdout",
     "output_type": "stream",
     "text": [
      "114\n"
     ]
    },
    {
     "data": {
      "text/plain": [
       "['### abstract ###\\n',\n",
       " 'Whole-genome transporter analyses have been conducted on 141 organisms whose complete genome sequences are available.\\n',\n",
       " 'For each organism, the complete set of membrane transport systems was identified with predicted functions, and classified into protein families based on the transporter classification system.\\n',\n",
       " 'Organisms with larger genome sizes generally possessed a relatively greater number of transport systems.\\n',\n",
       " 'In prokaryotes and unicellular eukaryotes, the significant factor in the increase in transporter content with genome size was a greater diversity of transporter types.\\n',\n",
       " 'In contrast, in multicellular eukaryotes, greater number of paralogs in specific transporter families was the more important factor in the increase in transporter content with genome size.\\n',\n",
       " 'Both eukaryotic and prokaryotic intracellular pathogens and endosymbionts exhibited markedly limited transport capabilities.\\n',\n",
       " 'Hierarchical clustering of phylogenetic profiles of transporter families, derived from the presence or absence of a certain transporter family, showed that clustering patterns of organisms were correlated to both their evolutionary history and their overall physiology and lifestyles.\\n',\n",
       " '### introduction ###\\n',\n",
       " 'Membrane transport systems play essential roles in cellular metabolism and activities.\\n']"
      ]
     },
     "execution_count": 34,
     "metadata": {},
     "output_type": "execute_result"
    }
   ],
   "source": [
    "documents_unlabled=[]\n",
    "for f in files_unlabled:\n",
    "    path=os.path.join(path_unlabeled, f)\n",
    "    file=open(path, \"r\")\n",
    "    docs=file.readlines()\n",
    "    #print(docs)\n",
    "    documents_unlabled.extend(docs)\n",
    "print(len(documents_unlabled))\n",
    "documents_unlabled[:10]"
   ]
  },
  {
   "cell_type": "code",
   "execution_count": 35,
   "id": "e735ca5b",
   "metadata": {},
   "outputs": [
    {
     "data": {
      "text/plain": [
       "['Whole-genome transporter analyses have been conducted on 141 organisms whose complete genome sequences are available.\\n',\n",
       " 'For each organism, the complete set of membrane transport systems was identified with predicted functions, and classified into protein families based on the transporter classification system.\\n',\n",
       " 'Organisms with larger genome sizes generally possessed a relatively greater number of transport systems.\\n',\n",
       " 'In prokaryotes and unicellular eukaryotes, the significant factor in the increase in transporter content with genome size was a greater diversity of transporter types.\\n',\n",
       " 'In contrast, in multicellular eukaryotes, greater number of paralogs in specific transporter families was the more important factor in the increase in transporter content with genome size.\\n',\n",
       " 'Both eukaryotic and prokaryotic intracellular pathogens and endosymbionts exhibited markedly limited transport capabilities.\\n',\n",
       " 'Hierarchical clustering of phylogenetic profiles of transporter families, derived from the presence or absence of a certain transporter family, showed that clustering patterns of organisms were correlated to both their evolutionary history and their overall physiology and lifestyles.\\n',\n",
       " 'Membrane transport systems play essential roles in cellular metabolism and activities.\\n',\n",
       " 'Transporters function in the acquisition of organic nutrients, maintenance of ion homeostasis, extrusion of toxic and waste compounds, environmental sensing and cell communication, and other important cellular functions CITATION.\\n',\n",
       " 'Various transport systems differ in their putative membrane topology, energy coupling mechanisms, and substrate specificities CITATION.\\n']"
      ]
     },
     "execution_count": 35,
     "metadata": {},
     "output_type": "execute_result"
    }
   ],
   "source": [
    "preprocess1(documents_unlabled)\n",
    "documents_unlabled[:10]"
   ]
  },
  {
   "cell_type": "code",
   "execution_count": 36,
   "id": "c130c1ec",
   "metadata": {},
   "outputs": [
    {
     "data": {
      "text/plain": [
       "['whole genome transporter analyses conducted 141 organisms whose complete genome sequences available',\n",
       " 'for organism complete set membrane transport systems identified predicted functions classified protein families based transporter classification system',\n",
       " 'organisms larger genome sizes generally possessed relatively greater number transport systems',\n",
       " 'in prokaryotes unicellular eukaryotes significant factor increase transporter content genome size greater diversity transporter types',\n",
       " 'in contrast multicellular eukaryotes greater number paralogs specific transporter families important factor increase transporter content genome size',\n",
       " 'both eukaryotic prokaryotic intracellular pathogens endosymbionts exhibited markedly limited transport capabilities',\n",
       " 'hierarchical clustering phylogenetic profiles transporter families derived presence absence certain transporter family showed clustering patterns organisms correlated evolutionary history overall physiology lifestyles',\n",
       " 'membrane transport systems play essential roles cellular metabolism activities',\n",
       " 'transporters function acquisition organic nutrients maintenance ion homeostasis extrusion toxic waste compounds environmental sensing cell communication important cellular functions citation',\n",
       " 'various transport systems differ putative membrane topology energy coupling mechanisms substrate specificities citation']"
      ]
     },
     "execution_count": 36,
     "metadata": {},
     "output_type": "execute_result"
    }
   ],
   "source": [
    "docs_unlabeled=preprocess3(documents_unlabled)\n",
    "docs_unlabeled[:10]"
   ]
  },
  {
   "cell_type": "code",
   "execution_count": 37,
   "id": "385b5c93",
   "metadata": {},
   "outputs": [
    {
     "name": "stdout",
     "output_type": "stream",
     "text": [
      "(110, 798)\n",
      "(315, 798)\n"
     ]
    }
   ],
   "source": [
    "#vectorizing the unlabeled documents\n",
    "vectorizer2 = TfidfVectorizer(vocabulary=vectorizer.get_feature_names()) #max_features=X.shape[1])\n",
    "X_unlabeled=vectorizer2.fit_transform(docs_unlabeled)\n",
    "#vectorizer2.get_feature_names()\n",
    "X_unlabeled=X_unlabeled.toarray()\n",
    "print(X_unlabeled.shape)\n",
    "print(X.shape)"
   ]
  },
  {
   "cell_type": "code",
   "execution_count": 38,
   "id": "5b468c52",
   "metadata": {},
   "outputs": [
    {
     "data": {
      "text/plain": [
       "798"
      ]
     },
     "execution_count": 38,
     "metadata": {},
     "output_type": "execute_result"
    }
   ],
   "source": [
    "len(set(vectorizer2.get_feature_names()).intersection(vectorizer.get_feature_names()))"
   ]
  },
  {
   "cell_type": "markdown",
   "id": "f6c60417",
   "metadata": {},
   "source": [
    "the features of the model are exactly the same as features of the vectorized unlabled documents. Now, we can do the prediction."
   ]
  },
  {
   "cell_type": "code",
   "execution_count": 39,
   "id": "d32b1343",
   "metadata": {},
   "outputs": [
    {
     "data": {
      "text/plain": [
       "array([4, 4, 3, 3, 3, 2, 3, 0, 4, 3, 1, 4, 4, 4, 4, 3, 1, 1, 3, 1, 4, 3,\n",
       "       3, 4, 3, 3, 3, 4, 2, 0, 0, 3, 3, 0, 3, 3, 0, 3, 3, 0, 2, 4, 4, 1,\n",
       "       4, 4, 1, 4, 3, 3, 4, 3, 1, 3, 3, 3, 0, 4, 4, 0, 3, 0, 3, 3, 4, 4,\n",
       "       3, 0, 3, 4, 4, 4, 2, 4, 4, 3, 2, 0, 3, 0, 3, 4, 4, 4, 2, 3, 3, 2,\n",
       "       4, 4, 3, 4, 4, 0, 4, 4, 3, 4, 3, 3, 4, 4, 4, 4, 4, 4, 3, 4, 4, 4],\n",
       "      dtype=int64)"
      ]
     },
     "execution_count": 39,
     "metadata": {},
     "output_type": "execute_result"
    }
   ],
   "source": [
    "pred_y=model3.predict(X_unlabeled)\n",
    "pred_y"
   ]
  },
  {
   "cell_type": "code",
   "execution_count": 40,
   "id": "c875b4e2",
   "metadata": {},
   "outputs": [
    {
     "data": {
      "text/plain": [
       "array(['AIMX', 'BASE', 'CONT', 'MISC', 'OWNX'], dtype='<U4')"
      ]
     },
     "execution_count": 40,
     "metadata": {},
     "output_type": "execute_result"
    }
   ],
   "source": [
    "le.classes_"
   ]
  },
  {
   "cell_type": "code",
   "execution_count": 41,
   "id": "2d1b5339",
   "metadata": {},
   "outputs": [
    {
     "data": {
      "text/plain": [
       "['OWNX',\n",
       " 'OWNX',\n",
       " 'MISC',\n",
       " 'MISC',\n",
       " 'MISC',\n",
       " 'CONT',\n",
       " 'MISC',\n",
       " 'AIMX',\n",
       " 'OWNX',\n",
       " 'MISC']"
      ]
     },
     "execution_count": 41,
     "metadata": {},
     "output_type": "execute_result"
    }
   ],
   "source": [
    "labels_dict=dict(zip([0,1,2,3,4],le.classes_))\n",
    "labels_dict\n",
    "pred_labels= map(labels_dict.get, pred_y)\n",
    "list(pred_labels)[:10]"
   ]
  }
 ],
 "metadata": {
  "kernelspec": {
   "display_name": "Python 3",
   "language": "python",
   "name": "python3"
  },
  "language_info": {
   "codemirror_mode": {
    "name": "ipython",
    "version": 3
   },
   "file_extension": ".py",
   "mimetype": "text/x-python",
   "name": "python",
   "nbconvert_exporter": "python",
   "pygments_lexer": "ipython3",
   "version": "3.8.8"
  }
 },
 "nbformat": 4,
 "nbformat_minor": 5
}
